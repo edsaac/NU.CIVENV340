{
 "cells": [
  {
   "cell_type": "code",
   "execution_count": 1,
   "metadata": {},
   "outputs": [],
   "source": [
    "import pickle"
   ]
  },
  {
   "cell_type": "code",
   "execution_count": 2,
   "metadata": {},
   "outputs": [],
   "source": [
    "page_config = dict(\n",
    "        layout='wide',\n",
    "        menu_items={\n",
    "            \"Get help\" : \"https://canvas.northwestern.edu/courses/189865\",\n",
    "            \"Report a bug\"  : \"https://github.com/edsaac/NU.CIVENV340/issues/new\",\n",
    "            \"About\" :r\"\"\"\n",
    "                **CIVENV 340: Hydraulics & Hydrology** - Supporting material\n",
    "\n",
    "                - Northwestern University - Spring/2023\n",
    "                - Instructor: Edwin Saavedra Cifuentes\n",
    "\n",
    "                [![Other stuff](https://img.shields.io/static/v1?label=&message=Other+stuff+from+Edwin&color=white&logo=streamlit)](https://edsaac.github.io)\n",
    "                \n",
    "                *****\n",
    "                \"\"\"\n",
    "        }\n",
    "    )"
   ]
  },
  {
   "cell_type": "code",
   "execution_count": 3,
   "metadata": {},
   "outputs": [],
   "source": [
    "with open(\"page_config.pkl\", 'wb') as f:\n",
    "    pickle.dump(page_config, f)"
   ]
  }
 ],
 "metadata": {
  "kernelspec": {
   "display_name": "venv",
   "language": "python",
   "name": "python3"
  },
  "language_info": {
   "codemirror_mode": {
    "name": "ipython",
    "version": 3
   },
   "file_extension": ".py",
   "mimetype": "text/x-python",
   "name": "python",
   "nbconvert_exporter": "python",
   "pygments_lexer": "ipython3",
   "version": "3.9.5"
  },
  "orig_nbformat": 4
 },
 "nbformat": 4,
 "nbformat_minor": 2
}
