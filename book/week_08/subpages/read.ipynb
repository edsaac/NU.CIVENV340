{
 "cells": [
  {
   "cell_type": "code",
   "execution_count": 18,
   "metadata": {},
   "outputs": [],
   "source": [
    "from pysheds.grid import Grid\n",
    "import numpy as np\n",
    "import rasterio\n",
    "\n",
    "path = \"../../assets/dem/clipped.tif\""
   ]
  },
  {
   "cell_type": "code",
   "execution_count": 19,
   "metadata": {},
   "outputs": [],
   "source": [
    "output_tif = '../../assets/dem/output_float.tif'\n",
    "\n",
    "with rasterio.open(path) as src:\n",
    "    data = src.read(1).astype('float32')  # Read and convert to float\n",
    "    profile = src.profile\n",
    "    profile.update(dtype='float32')  # Update the profile data type\n",
    "\n",
    "    with rasterio.open(output_tif, 'w', **profile) as dst:\n",
    "        dst.write(data, 1)"
   ]
  },
  {
   "cell_type": "code",
   "execution_count": 20,
   "metadata": {},
   "outputs": [],
   "source": [
    "grid = Grid.from_raster(output_tif)"
   ]
  },
  {
   "cell_type": "code",
   "execution_count": 21,
   "metadata": {},
   "outputs": [
    {
     "data": {
      "text/plain": [
       "'affine' : Affine(0.0008333333333333296, 0.0, -84.9425,\n",
       "       0.0, -0.0008333333333333322, 34.29333333333334)\n",
       "'shape' : (1831, 2412)\n",
       "'nodata' : np.float32(-32768.0)\n",
       "'crs' : <Geographic 2D CRS: EPSG:4326>\n",
       "Name: WGS 84\n",
       "Axis Info [ellipsoidal]:\n",
       "- Lat[north]: Geodetic latitude (degree)\n",
       "- Lon[east]: Geodetic longitude (degree)\n",
       "Area of Use:\n",
       "- undefined\n",
       "Datum: World Geodetic System 1984\n",
       "- Ellipsoid: WGS 84\n",
       "- Prime Meridian: Greenwich\n",
       "\n",
       "'mask' : array([[ True,  True,  True, ...,  True,  True,  True],\n",
       "       [ True,  True,  True, ...,  True,  True,  True],\n",
       "       [ True,  True,  True, ...,  True,  True,  True],\n",
       "       ...,\n",
       "       [ True,  True,  True, ...,  True,  True,  True],\n",
       "       [ True,  True,  True, ...,  True,  True,  True],\n",
       "       [ True,  True,  True, ...,  True,  True,  True]])"
      ]
     },
     "execution_count": 21,
     "metadata": {},
     "output_type": "execute_result"
    }
   ],
   "source": [
    "grid"
   ]
  },
  {
   "cell_type": "code",
   "execution_count": 22,
   "metadata": {},
   "outputs": [
    {
     "data": {
      "text/plain": [
       "np.float32(-32768.0)"
      ]
     },
     "execution_count": 22,
     "metadata": {},
     "output_type": "execute_result"
    }
   ],
   "source": [
    "grid.nodata"
   ]
  },
  {
   "cell_type": "code",
   "execution_count": 23,
   "metadata": {},
   "outputs": [],
   "source": [
    "dem = grid.read_raster(path)"
   ]
  },
  {
   "cell_type": "code",
   "execution_count": 24,
   "metadata": {},
   "outputs": [
    {
     "data": {
      "text/plain": [
       "Raster([[237, 231, 228, ..., 219, 220, 219],\n",
       "        [230, 228, 229, ..., 215, 216, 214],\n",
       "        [227, 225, 229, ..., 210, 213, 211],\n",
       "        ...,\n",
       "        [257, 254, 256, ..., 101, 102, 104],\n",
       "        [259, 257, 259, ...,  96,  98, 102],\n",
       "        [265, 263, 262, ..., 100,  99, 103]], dtype=int16)"
      ]
     },
     "execution_count": 24,
     "metadata": {},
     "output_type": "execute_result"
    }
   ],
   "source": [
    "dem"
   ]
  },
  {
   "cell_type": "code",
   "execution_count": 25,
   "metadata": {},
   "outputs": [
    {
     "data": {
      "text/plain": [
       "dtype('int16')"
      ]
     },
     "execution_count": 25,
     "metadata": {},
     "output_type": "execute_result"
    }
   ],
   "source": [
    "dem.dtype"
   ]
  },
  {
   "cell_type": "code",
   "execution_count": 26,
   "metadata": {},
   "outputs": [
    {
     "data": {
      "text/plain": [
       "Raster([[237., 231., 228., ..., 219., 220., 219.],\n",
       "        [230., 228., 229., ..., 215., 216., 214.],\n",
       "        [227., 227., 229., ..., 210., 213., 211.],\n",
       "        ...,\n",
       "        [257., 254., 256., ..., 101., 102., 104.],\n",
       "        [259., 257., 259., ...,  96.,  98., 102.],\n",
       "        [265., 263., 262., ..., 100.,  99., 103.]])"
      ]
     },
     "execution_count": 26,
     "metadata": {},
     "output_type": "execute_result"
    }
   ],
   "source": [
    "pit_filled_dem = grid.fill_pits(dem, nodata_in=-32768, nodata_out=-32768)\n",
    "pit_filled_dem"
   ]
  },
  {
   "cell_type": "code",
   "execution_count": 27,
   "metadata": {},
   "outputs": [
    {
     "data": {
      "text/plain": [
       "dtype('float64')"
      ]
     },
     "execution_count": 27,
     "metadata": {},
     "output_type": "execute_result"
    }
   ],
   "source": [
    "pit_filled_dem.dtype"
   ]
  },
  {
   "cell_type": "code",
   "execution_count": 28,
   "metadata": {},
   "outputs": [
    {
     "data": {
      "text/plain": [
       "Raster([[237., 231., 228., ..., 219., 220., 219.],\n",
       "        [230., 228., 229., ..., 215., 216., 214.],\n",
       "        [227., 227., 229., ..., 211., 213., 211.],\n",
       "        ...,\n",
       "        [257., 254., 256., ..., 101., 102., 104.],\n",
       "        [259., 257., 259., ...,  96.,  98., 102.],\n",
       "        [265., 263., 262., ..., 100.,  99., 103.]])"
      ]
     },
     "execution_count": 28,
     "metadata": {},
     "output_type": "execute_result"
    }
   ],
   "source": [
    "flooded_dem = grid.fill_depressions(pit_filled_dem)\n",
    "flooded_dem"
   ]
  },
  {
   "cell_type": "code",
   "execution_count": 29,
   "metadata": {},
   "outputs": [],
   "source": [
    "# Resolve flats in DEM\n",
    "inflated_dem = grid.resolve_flats(flooded_dem)"
   ]
  },
  {
   "cell_type": "code",
   "execution_count": 30,
   "metadata": {},
   "outputs": [
    {
     "data": {
      "text/plain": [
       "Raster([[237.     , 231.     , 228.     , ..., 219.     , 220.     ,\n",
       "         219.     ],\n",
       "        [230.     , 228.     , 229.     , ..., 215.     , 216.     ,\n",
       "         214.     ],\n",
       "        [227.00002, 227.00004, 229.     , ..., 211.00006, 213.     ,\n",
       "         211.00002],\n",
       "        ...,\n",
       "        [257.     , 254.     , 256.     , ..., 101.     , 102.     ,\n",
       "         104.     ],\n",
       "        [259.     , 257.     , 259.     , ...,  96.     ,  98.     ,\n",
       "         102.     ],\n",
       "        [265.     , 263.     , 262.     , ..., 100.     ,  99.     ,\n",
       "         103.     ]])"
      ]
     },
     "execution_count": 30,
     "metadata": {},
     "output_type": "execute_result"
    }
   ],
   "source": [
    "inflated_dem"
   ]
  },
  {
   "cell_type": "code",
   "execution_count": 31,
   "metadata": {},
   "outputs": [
    {
     "ename": "TypeError",
     "evalue": "`nodata` value not representable in dtype of array.",
     "output_type": "error",
     "traceback": [
      "\u001b[0;31m---------------------------------------------------------------------------\u001b[0m",
      "\u001b[0;31mTypeError\u001b[0m                                 Traceback (most recent call last)",
      "File \u001b[0;32m~/wenv/lib/python3.11/site-packages/pysheds/sview.py:85\u001b[0m, in \u001b[0;36mRaster.__new__\u001b[0;34m(cls, input_array, viewfinder, metadata)\u001b[0m\n\u001b[1;32m     84\u001b[0m \u001b[38;5;28;01mtry\u001b[39;00m:\n\u001b[0;32m---> 85\u001b[0m     \u001b[38;5;28;01massert\u001b[39;00m \u001b[43mnp\u001b[49m\u001b[38;5;241;43m.\u001b[39;49m\u001b[43mcan_cast\u001b[49m\u001b[43m(\u001b[49m\u001b[43mviewfinder\u001b[49m\u001b[38;5;241;43m.\u001b[39;49m\u001b[43mnodata\u001b[49m\u001b[43m,\u001b[49m\u001b[43m \u001b[49m\u001b[43mobj\u001b[49m\u001b[38;5;241;43m.\u001b[39;49m\u001b[43mdtype\u001b[49m\u001b[43m,\u001b[49m\u001b[43m \u001b[49m\u001b[43mcasting\u001b[49m\u001b[38;5;241;43m=\u001b[39;49m\u001b[38;5;124;43m'\u001b[39;49m\u001b[38;5;124;43msafe\u001b[39;49m\u001b[38;5;124;43m'\u001b[39;49m\u001b[43m)\u001b[49m\n\u001b[1;32m     86\u001b[0m \u001b[38;5;28;01mexcept\u001b[39;00m:\n",
      "\u001b[0;31mTypeError\u001b[0m: can_cast() does not support Python ints, floats, and complex because the result used to depend on the value.\nThis change was part of adopting NEP 50, we may explicitly allow them again in the future.",
      "\nDuring handling of the above exception, another exception occurred:\n",
      "\u001b[0;31mTypeError\u001b[0m                                 Traceback (most recent call last)",
      "Cell \u001b[0;32mIn[31], line 2\u001b[0m\n\u001b[1;32m      1\u001b[0m \u001b[38;5;66;03m# Compute flow directions\u001b[39;00m\n\u001b[0;32m----> 2\u001b[0m fdir \u001b[38;5;241m=\u001b[39m \u001b[43mgrid\u001b[49m\u001b[38;5;241;43m.\u001b[39;49m\u001b[43mflowdir\u001b[49m\u001b[43m(\u001b[49m\u001b[43minflated_dem\u001b[49m\u001b[43m)\u001b[49m\n",
      "File \u001b[0;32m~/wenv/lib/python3.11/site-packages/pysheds/sgrid.py:603\u001b[0m, in \u001b[0;36msGrid.flowdir\u001b[0;34m(self, dem, routing, flats, pits, nodata_out, dirmap, **kwargs)\u001b[0m\n\u001b[1;32m    601\u001b[0m     \u001b[38;5;28;01mif\u001b[39;00m nodata_out \u001b[38;5;129;01mis\u001b[39;00m \u001b[38;5;28;01mNone\u001b[39;00m:\n\u001b[1;32m    602\u001b[0m         nodata_out \u001b[38;5;241m=\u001b[39m \u001b[38;5;241m0\u001b[39m\n\u001b[0;32m--> 603\u001b[0m     fdir \u001b[38;5;241m=\u001b[39m \u001b[38;5;28;43mself\u001b[39;49m\u001b[38;5;241;43m.\u001b[39;49m\u001b[43m_d8_flowdir\u001b[49m\u001b[43m(\u001b[49m\u001b[43mdem\u001b[49m\u001b[38;5;241;43m=\u001b[39;49m\u001b[43mdem\u001b[49m\u001b[43m,\u001b[49m\u001b[43m \u001b[49m\u001b[43mnodata_cells\u001b[49m\u001b[38;5;241;43m=\u001b[39;49m\u001b[43mnodata_cells\u001b[49m\u001b[43m,\u001b[49m\n\u001b[1;32m    604\u001b[0m \u001b[43m                            \u001b[49m\u001b[43mnodata_out\u001b[49m\u001b[38;5;241;43m=\u001b[39;49m\u001b[43mnodata_out\u001b[49m\u001b[43m,\u001b[49m\u001b[43m \u001b[49m\u001b[43mflats\u001b[49m\u001b[38;5;241;43m=\u001b[39;49m\u001b[43mflats\u001b[49m\u001b[43m,\u001b[49m\n\u001b[1;32m    605\u001b[0m \u001b[43m                            \u001b[49m\u001b[43mpits\u001b[49m\u001b[38;5;241;43m=\u001b[39;49m\u001b[43mpits\u001b[49m\u001b[43m,\u001b[49m\u001b[43m \u001b[49m\u001b[43mdirmap\u001b[49m\u001b[38;5;241;43m=\u001b[39;49m\u001b[43mdirmap\u001b[49m\u001b[43m)\u001b[49m\n\u001b[1;32m    606\u001b[0m \u001b[38;5;28;01melif\u001b[39;00m routing\u001b[38;5;241m.\u001b[39mlower() \u001b[38;5;241m==\u001b[39m \u001b[38;5;124m'\u001b[39m\u001b[38;5;124mdinf\u001b[39m\u001b[38;5;124m'\u001b[39m:\n\u001b[1;32m    607\u001b[0m     \u001b[38;5;28;01mif\u001b[39;00m nodata_out \u001b[38;5;129;01mis\u001b[39;00m \u001b[38;5;28;01mNone\u001b[39;00m:\n",
      "File \u001b[0;32m~/wenv/lib/python3.11/site-packages/pysheds/sgrid.py:634\u001b[0m, in \u001b[0;36msGrid._d8_flowdir\u001b[0;34m(self, dem, nodata_cells, nodata_out, flats, pits, dirmap)\u001b[0m\n\u001b[1;32m    631\u001b[0m \u001b[38;5;66;03m# Compute D8 flow directions\u001b[39;00m\n\u001b[1;32m    632\u001b[0m fdir \u001b[38;5;241m=\u001b[39m _self\u001b[38;5;241m.\u001b[39m_d8_flowdir_numba(dem, dx, dy, dirmap, nodata_cells,\n\u001b[1;32m    633\u001b[0m                                nodata_out, flat\u001b[38;5;241m=\u001b[39mflats, pit\u001b[38;5;241m=\u001b[39mpits)\n\u001b[0;32m--> 634\u001b[0m \u001b[38;5;28;01mreturn\u001b[39;00m \u001b[38;5;28;43mself\u001b[39;49m\u001b[38;5;241;43m.\u001b[39;49m\u001b[43m_output_handler\u001b[49m\u001b[43m(\u001b[49m\u001b[43mdata\u001b[49m\u001b[38;5;241;43m=\u001b[39;49m\u001b[43mfdir\u001b[49m\u001b[43m,\u001b[49m\u001b[43m \u001b[49m\u001b[43mviewfinder\u001b[49m\u001b[38;5;241;43m=\u001b[39;49m\u001b[43mdem\u001b[49m\u001b[38;5;241;43m.\u001b[39;49m\u001b[43mviewfinder\u001b[49m\u001b[43m,\u001b[49m\n\u001b[1;32m    635\u001b[0m \u001b[43m                            \u001b[49m\u001b[43mmetadata\u001b[49m\u001b[38;5;241;43m=\u001b[39;49m\u001b[43mdem\u001b[49m\u001b[38;5;241;43m.\u001b[39;49m\u001b[43mmetadata\u001b[49m\u001b[43m,\u001b[49m\u001b[43m \u001b[49m\u001b[43mnodata\u001b[49m\u001b[38;5;241;43m=\u001b[39;49m\u001b[43mnodata_out\u001b[49m\u001b[43m)\u001b[49m\n",
      "File \u001b[0;32m~/wenv/lib/python3.11/site-packages/pysheds/sgrid.py:2397\u001b[0m, in \u001b[0;36msGrid._output_handler\u001b[0;34m(self, data, viewfinder, metadata, **kwargs)\u001b[0m\n\u001b[1;32m   2395\u001b[0m         \u001b[38;5;28msetattr\u001b[39m(new_view, param, value)\n\u001b[1;32m   2396\u001b[0m \u001b[38;5;28;01mif\u001b[39;00m (data\u001b[38;5;241m.\u001b[39mndim \u001b[38;5;241m==\u001b[39m \u001b[38;5;241m2\u001b[39m):\n\u001b[0;32m-> 2397\u001b[0m     dataset \u001b[38;5;241m=\u001b[39m \u001b[43mRaster\u001b[49m\u001b[43m(\u001b[49m\u001b[43mdata\u001b[49m\u001b[43m,\u001b[49m\u001b[43m \u001b[49m\u001b[43mnew_view\u001b[49m\u001b[43m,\u001b[49m\u001b[43m \u001b[49m\u001b[43mmetadata\u001b[49m\u001b[38;5;241;43m=\u001b[39;49m\u001b[43mmetadata\u001b[49m\u001b[43m)\u001b[49m\n\u001b[1;32m   2398\u001b[0m \u001b[38;5;28;01melif\u001b[39;00m (data\u001b[38;5;241m.\u001b[39mndim \u001b[38;5;241m==\u001b[39m \u001b[38;5;241m3\u001b[39m):\n\u001b[1;32m   2399\u001b[0m     dataset \u001b[38;5;241m=\u001b[39m MultiRaster(data, new_view, metadata\u001b[38;5;241m=\u001b[39mmetadata)\n",
      "File \u001b[0;32m~/wenv/lib/python3.11/site-packages/pysheds/sview.py:87\u001b[0m, in \u001b[0;36mRaster.__new__\u001b[0;34m(cls, input_array, viewfinder, metadata)\u001b[0m\n\u001b[1;32m     85\u001b[0m     \u001b[38;5;28;01massert\u001b[39;00m np\u001b[38;5;241m.\u001b[39mcan_cast(viewfinder\u001b[38;5;241m.\u001b[39mnodata, obj\u001b[38;5;241m.\u001b[39mdtype, casting\u001b[38;5;241m=\u001b[39m\u001b[38;5;124m'\u001b[39m\u001b[38;5;124msafe\u001b[39m\u001b[38;5;124m'\u001b[39m)\n\u001b[1;32m     86\u001b[0m \u001b[38;5;28;01mexcept\u001b[39;00m:\n\u001b[0;32m---> 87\u001b[0m     \u001b[38;5;28;01mraise\u001b[39;00m \u001b[38;5;167;01mTypeError\u001b[39;00m(\u001b[38;5;124m'\u001b[39m\u001b[38;5;124m`nodata` value not representable in dtype of array.\u001b[39m\u001b[38;5;124m'\u001b[39m)\n\u001b[1;32m     88\u001b[0m \u001b[38;5;66;03m# Don't allow original viewfinder and metadata to be modified\u001b[39;00m\n\u001b[1;32m     89\u001b[0m viewfinder \u001b[38;5;241m=\u001b[39m viewfinder\u001b[38;5;241m.\u001b[39mcopy()\n",
      "\u001b[0;31mTypeError\u001b[0m: `nodata` value not representable in dtype of array."
     ]
    }
   ],
   "source": [
    "# Compute flow directions\n",
    "fdir = grid.flowdir(inflated_dem)"
   ]
  },
  {
   "cell_type": "code",
   "execution_count": null,
   "metadata": {},
   "outputs": [],
   "source": []
  }
 ],
 "metadata": {
  "kernelspec": {
   "display_name": "wenv",
   "language": "python",
   "name": "python3"
  },
  "language_info": {
   "codemirror_mode": {
    "name": "ipython",
    "version": 3
   },
   "file_extension": ".py",
   "mimetype": "text/x-python",
   "name": "python",
   "nbconvert_exporter": "python",
   "pygments_lexer": "ipython3",
   "version": "3.11.9"
  }
 },
 "nbformat": 4,
 "nbformat_minor": 2
}
